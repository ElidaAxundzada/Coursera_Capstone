{
 "cells": [
  {
   "cell_type": "markdown",
   "metadata": {},
   "source": [
    "1. Business Understanding\n",
    "\n",
    "As a driving school, we would like to create a mobile application for young drivers. The purpose of this application is to increase the safety on the road based on various criterias. The young drivers could verify the risk of accident before hitting the road.\n",
    "To create our application, we should develop an accurate prediction model.\n",
    "\n",
    "2. Data understanding\n",
    "\n",
    "We will use various variables to train our machine learning model. Indeed, we should verify the correalation between the car accident severity and the chosen variables before making our application available.\n",
    "\n",
    "Here are the chosen variables: 'SEVERITYCODE', 'ADDRTYPE', 'WEATHER', 'ROADCOND','COLLISIONTYPE'.\n",
    "\n",
    "We will assess the condition of chosen attributes by looking for trends, certain patterns, skewed information, correlations, and so on."
   ]
  },
  {
   "cell_type": "code",
   "execution_count": 2,
   "metadata": {},
   "outputs": [],
   "source": [
    "import pandas as pd\n",
    "import numpy as np"
   ]
  },
  {
   "cell_type": "code",
   "execution_count": 3,
   "metadata": {},
   "outputs": [
    {
     "name": "stdout",
     "output_type": "stream",
     "text": [
      "Hello Capstone Project Course!\n"
     ]
    }
   ],
   "source": [
    "print(\"Hello Capstone Project Course!\")"
   ]
  },
  {
   "cell_type": "code",
   "execution_count": null,
   "metadata": {},
   "outputs": [],
   "source": []
  }
 ],
 "metadata": {
  "kernelspec": {
   "display_name": "Python 3",
   "language": "python",
   "name": "python3"
  },
  "language_info": {
   "codemirror_mode": {
    "name": "ipython",
    "version": 3
   },
   "file_extension": ".py",
   "mimetype": "text/x-python",
   "name": "python",
   "nbconvert_exporter": "python",
   "pygments_lexer": "ipython3",
   "version": "3.7.6"
  }
 },
 "nbformat": 4,
 "nbformat_minor": 4
}
